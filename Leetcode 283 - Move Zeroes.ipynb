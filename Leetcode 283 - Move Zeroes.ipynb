{
 "cells": [
  {
   "cell_type": "markdown",
   "id": "09f805e1",
   "metadata": {},
   "source": [
    "# A Complete Analysis of 283. Move Zeroes (easy)"
   ]
  },
  {
   "cell_type": "markdown",
   "id": "60543219",
   "metadata": {},
   "source": [
    "Question Link: https://leetcode.com/problems/move-zeroes/"
   ]
  },
  {
   "cell_type": "code",
   "execution_count": null,
   "id": "9afc9288",
   "metadata": {},
   "outputs": [],
   "source": []
  },
  {
   "cell_type": "markdown",
   "id": "df0c0ac0",
   "metadata": {},
   "source": [
    "## Step 1: Analysis For Bruteforce Solution"
   ]
  },
  {
   "cell_type": "markdown",
   "id": "28b9d81b",
   "metadata": {},
   "source": [
    "This question is fairly straightforward. The requirement is simply move all the zeros in given array ```nums``` to the back of the array.\n",
    "\n",
    "However, we should take note of the below requirement and constraint: \n",
    "- relative order of the non-zero elements in the array should be a maintained. \n",
    "- it is not allowed to use a copy of the array. In other words, the space complexity should be O(1).\n",
    "- input constraints:\n",
    "    - 1 <= nums.length <= 10**4\n",
    "    - -231 <= nums[i] <= 231 - 1\n",
    "\n",
    "\n",
    "For the requirement of in-place alteration, just think if we can set up a new array, then the question becomes a very simple array traversal problem, i.e., loop through the array and copy the non-zero elements in the input array. The time complexity of this algorithm is O(N).\n",
    "\n",
    "Because the required space complexity is O(1), it complicates the issue. In a typical array data structure, if one element is moved to the end of the array, all elements after it will have to be moved forward to cover the \"hole\" created by the movement. And this is the bruteforce way of solving this problem.\n",
    "\n",
    "Combined with the input constraints, we can see that the range of the array length actually causes the bruteforce solution to fail to pass with a TLE (Time Limit Exceeded)."
   ]
  },
  {
   "cell_type": "code",
   "execution_count": 8,
   "id": "b3e076bd",
   "metadata": {},
   "outputs": [],
   "source": [
    "# Solution 1: Bruteforce.\n",
    "# This solution will not pass because this is an O(N**2))) time complexity.\n",
    "\n",
    "class Solution:\n",
    "    def moveZeroes(self, nums: list[int]) -> None:\n",
    "        \"\"\"\n",
    "        Do not return anything, modify nums in-place instead.\n",
    "        \"\"\"\n",
    "        i, cnt0 = 0, 0  # i is the number of non-zero elements so far.\n",
    "                        # cnt0 is the number of zero elements so far. \n",
    "                        # If i + cnt0 == len(nums), no more elements to process\n",
    "        while i+cnt0 < len(nums):\n",
    "            if nums[i] == 0:\n",
    "                cnt0 += 1 # one more 0 found\n",
    "                for j in range(i+1, len(nums)):\n",
    "                    nums[j-1] = nums[j] # move every element after pos i forward one position\n",
    "                nums[-1] = 0 # move the 0 to the end of array\n",
    "            else:\n",
    "                i += 1 # one more non-zero element found"
   ]
  },
  {
   "cell_type": "code",
   "execution_count": 12,
   "id": "c4d7caba",
   "metadata": {},
   "outputs": [
    {
     "name": "stdout",
     "output_type": "stream",
     "text": [
      "[1, 2, 3, 12, 0, 0]\n",
      "[0]\n",
      "[1, 0, 0]\n"
     ]
    }
   ],
   "source": [
    "# Test solution 1\n",
    "arrs = [[1, 0, 2, 3, 0, 12], [0], [0, 0, 1]]\n",
    "for arr in arrs:\n",
    "    Solution().moveZeroes(arr)\n",
    "    print(arr)"
   ]
  },
  {
   "cell_type": "code",
   "execution_count": null,
   "id": "4316b51e",
   "metadata": {},
   "outputs": [],
   "source": []
  },
  {
   "cell_type": "markdown",
   "id": "941eb5a7",
   "metadata": {},
   "source": [
    "## Step 2: Analysis of Solution Utilizing the Python List Features"
   ]
  },
  {
   "cell_type": "markdown",
   "id": "20f857fd",
   "metadata": {},
   "source": [
    "The next solution I can think of is the pop() and append() method provided by the Python list data structure.\n",
    "\n",
    "The thinking is also very straightforward: use a loop to go through the list and wherever a 0 value is found, use the pop() method to remove the element and append the removed 0 to the end of the list.\n",
    "\n",
    "However, it is very dangerous to change the elements of a list in a for loop. It will probably create some unexpected result. In our case, if we remove a zero element from the list and append it to the end, because after the removal, the elements after the moved zero will be promoted to the previous positions, some elements will not be processed.\n",
    "\n",
    "For example, if nums = [0, 1, 2, 3], in the for loop, in the first iteration, the leading zero will be moved to the end, hence nums becomes [1, 2, 3, 0], but in the next iteration, the focus goes to value 2 in position 1, but not the original value 1 in position 1 (since it's moved to position 0).\n",
    "\n",
    "Here we should use while loop and the zero and non-zero count trick in the bruteforce solution.\n"
   ]
  },
  {
   "cell_type": "code",
   "execution_count": 11,
   "id": "440c3bd6",
   "metadata": {},
   "outputs": [],
   "source": [
    "# Solution 2: using pop() and append() method from python list\n",
    "# This solution can pass the test but needs further analysis on time complexity\n",
    "\n",
    "class Solution:\n",
    "    def moveZeroes(self, nums: list[int]) -> None:\n",
    "        \"\"\"\n",
    "        Do not return anything, modify nums in-place instead.\n",
    "        \"\"\"\n",
    "        zero = nonzero = 0 # still set two counters zero and nonzero for counting zeros and nonzeros\n",
    "        while zero + nonzero < len(nums):\n",
    "            if nums[nonzero] == 0: # it's nonzero here because the first part of the resulting array is nonzero\n",
    "                nums.append(nums.pop(nonzero)) # using the provided methods\n",
    "                zero += 1 # one more zero found\n",
    "            else:\n",
    "                nonzero += 1 # one more nonzero found"
   ]
  },
  {
   "cell_type": "code",
   "execution_count": 14,
   "id": "93ecb77b",
   "metadata": {
    "scrolled": false
   },
   "outputs": [
    {
     "name": "stdout",
     "output_type": "stream",
     "text": [
      "[1, 2, 3, 12, 0, 0]\n",
      "[0]\n",
      "[1, 0, 0, 0]\n"
     ]
    }
   ],
   "source": [
    "# Test solution 2\n",
    "arrs = [[1, 0, 2, 3, 0, 12], [0], [0, 0, 1, 0]]\n",
    "for arr in arrs:\n",
    "    Solution().moveZeroes(arr)\n",
    "    print(arr)"
   ]
  },
  {
   "cell_type": "markdown",
   "id": "a3327d32",
   "metadata": {},
   "source": [
    "### Further Analysis For Solution 2"
   ]
  },
  {
   "cell_type": "markdown",
   "id": "1fc3ded2",
   "metadata": {},
   "source": [
    "To determine the time complexity of the solution, we have to look at the time complexity of the pop() and append() method. And here is what I found:\n",
    "    \n",
    "https://wiki.python.org/moin/TimeComplexity\n",
    "\n",
    "Very unfortunately pop(i) is O(N), append() is O(1), and so the time complexity for solution 2 is O(N**2)."
   ]
  },
  {
   "cell_type": "markdown",
   "id": "2b409e5e",
   "metadata": {},
   "source": [
    "##### A question to think about:\n",
    "\n",
    "If the time complexity for solution 1 and that for 2 are both O(N), why on earth solution 2 can pass the test on Leetcode but solution 1 cannot?\n"
   ]
  },
  {
   "cell_type": "code",
   "execution_count": null,
   "id": "dc9ab97f",
   "metadata": {},
   "outputs": [],
   "source": []
  },
  {
   "cell_type": "markdown",
   "id": "e154bc71",
   "metadata": {},
   "source": [
    "## Step 3: Analysis For Decreasing Time Complexity"
   ]
  },
  {
   "cell_type": "markdown",
   "id": "9eaed5f3",
   "metadata": {},
   "source": [
    "Let's look back at the bruteforce solution (solution 1) and try to figure out why the zero and the nonzero counters are used.\n",
    "\n",
    "As denoted in the comments for solution 1, the two counters are used as sentinels in the while loop. Other than that, the nonzero count is used as a pointer to the position of an element that is be processed in an iteration, as shown below:\n",
    "```python\n",
    "    if nums[i] == 0:\n",
    "        cnt0 += 1 # one more 0 found\n",
    "        for j in range(i+1, len(nums)):\n",
    "            nums[j-1] = nums[j] # move every element after pos i forward one position\n",
    "            nums[-1] = 0 # move the 0 to the end of array\n",
    "    else:\n",
    "        i += 1 # one more non-zero element found\n",
    "```\n",
    "\n",
    "It is clear the value of the nonzero counter denotes the border of a nonzero value \"zone\" in the array. It's because when one nonzero element at the index i equal to the nonzero counter is found, the this element is \"added\" to the nonzero \"zone\" by increasing the nonzero counter by one.\n",
    "\n",
    "The zero counter also signals a \"zero zone\" from the end of the array.\n",
    "\n",
    "And the elements between those two \"zones\" are in the \"wait zone\" waiting to be moved to one of the two \"zones\" according to their values.\n",
    "\n",
    "A illustration below:\n",
    "```\n",
    "     nonzero zone    <-------   wait zone   -------> zero zone\n",
    "    +---------------+                               +-------------+\n",
    "    | ... 2 3 2 8 9 | 2 0 5 8 0 4 0 1 3 9 7 5 6 ... | 0 0 0 0 ... |\n",
    "    +---------------+                               +-------------+\n",
    "                      ^ <= nonzero counter           ** size of zero zone is the value of zero counter.\n",
    "```\n",
    "The nonzero counter's value is the position (index) of the value being processed in the current iteration.\n",
    "\n",
    "Then our bruteforce solution becomes:\n",
    "- loop through the elements in the array\n",
    "    - if an element is nonzero, increase nonzero counter by 1 to \n",
    "        1. increase the size of the nonzero zone.\n",
    "        2. thus include the element in nonzero zone\n",
    "    - otherwise (element is zero)\n",
    "        1. move the element to the back of the array and move all elements after it one position forward.\n",
    "        2. increase the zero counter by 1 to increase the size of the zero zone.\n",
    "- Once the nonzero counter steps into the zero zone, the loop should be ended.\n",
    "\n",
    "In essence, the nonzero and the zero counters separate the given array into three zones and when all the elements in the \"wait zone\" are processed, we have the desired result.\n",
    "This picture is much easier to understand than the changing values of the zero and nonzero counters.\n",
    "\n",
    "--------------"
   ]
  },
  {
   "cell_type": "markdown",
   "id": "23311e0a",
   "metadata": {},
   "source": [
    "Next, we would like to see whether it is possible to decrease the time complexity of the solution.\n",
    "\n",
    "In the bruteforce solution, we can quite easily spot the inefficiency. The part that takes most time is the moving of the elements after a zero is found in the \"wait zone.\" In the resulting array, there is a fix position for a nonzero value in the array, i.e., if 5 is the third nonzero value in the input array, its final position (index) should be 2, but in the bruteforce solution, what we do is to move them one position at a time. To address this inefficiency, what we need is a way to move the nonzero values from their positions in the original array directly to the positions in the final array. \n",
    "\n",
    "In the current solution, there are two ways we can do to optimize the algorithm. The first is to exchange the zeros in the \"wait zone\" to the beginning of the \"zero zone\" and do the movement of the other elements in the \"wait zone\". This will not work because it reduces the movement number a bit but it does not decrease time complexity to O(N).\n",
    "\n",
    "The second way is to exchange the zeros with the element right before the first element in the \"zero zone.\" But the resulting array will break the relative order of the nonzero values, failing to meet the first requirement.\n",
    "\n",
    "Another way is to flip the \"wait zone\" and the \"zero zone,\" i.e., put the \"zero zone\" before the \"wait zone.\" In this case, the nonzero counter is pointing to the first element in the \"zero zone,\" and then the value, nonzero counter + zero counter, will be pointing to the first element of the \"wait zone.\" Here let's call the value \"front.\"\n",
    "\n",
    "Now, if the element at the front index is a zero, we can simple add one to the zero counter to increase the size of \"zero zone.\" And if the element is a nonzero, we can exchange this element with the one pointed by the nonzero counter, which is a zero, and add one to the nonzero counter to increase the size of the \"nonzero zone.\" In this way, if the nonzero counter + the zero counter equals to the length of the array, we can stop the loop.\n",
    "\n",
    "In this solution, we manage to put the nonzero elements directly to the positions in the resulting array, thus successfully reducing the time complexity to O(N).\n",
    "\n",
    "Here comes the code."
   ]
  },
  {
   "cell_type": "code",
   "execution_count": 16,
   "id": "ac46d47d",
   "metadata": {},
   "outputs": [],
   "source": [
    "# solution 3: Flipping \"wait zone\" and \"zero zone\"\n",
    "# The time complexity is O(N)\n",
    "class Solution:\n",
    "    def moveZeroes(self, nums: list[int]) -> None:\n",
    "        \"\"\"\n",
    "        Do not return anything, modify nums in-place instead.\n",
    "        \"\"\"\n",
    "        zero, nonzero = 0, 0\n",
    "        while zero + nonzero < len(nums):\n",
    "            if nums[zero+nonzero] == 0:\n",
    "                zero += 1\n",
    "            else:\n",
    "                nums[nonzero], nums[zero+nonzero] = nums[zero+nonzero], nums[nonzero]\n",
    "                nonzero += 1\n",
    "        \n"
   ]
  },
  {
   "cell_type": "code",
   "execution_count": 17,
   "id": "9e0b35bc",
   "metadata": {},
   "outputs": [
    {
     "name": "stdout",
     "output_type": "stream",
     "text": [
      "[1, 2, 3, 12, 0, 0]\n",
      "[0]\n",
      "[1, 0, 0, 0]\n"
     ]
    }
   ],
   "source": [
    "# Test solution 3\n",
    "arrs = [[1, 0, 2, 3, 0, 12], [0], [0, 0, 1, 0]]\n",
    "for arr in arrs:\n",
    "    Solution().moveZeroes(arr)\n",
    "    print(arr)\n",
    "        "
   ]
  },
  {
   "cell_type": "code",
   "execution_count": null,
   "id": "e35581aa",
   "metadata": {},
   "outputs": [],
   "source": []
  },
  {
   "cell_type": "markdown",
   "id": "31e572e6",
   "metadata": {},
   "source": [
    "## Similar Questions:"
   ]
  },
  {
   "cell_type": "markdown",
   "id": "637360f5",
   "metadata": {},
   "source": [
    "27. Remove Element: https://leetcode.com/problems/remove-element/\n",
    "\n",
    "26. Remove Duplicates from Sorted Array: https://leetcode.com/problems/remove-duplicates-from-sorted-array/"
   ]
  },
  {
   "cell_type": "code",
   "execution_count": null,
   "id": "40acd708",
   "metadata": {},
   "outputs": [],
   "source": []
  },
  {
   "cell_type": "code",
   "execution_count": null,
   "id": "72bb533b",
   "metadata": {},
   "outputs": [],
   "source": []
  }
 ],
 "metadata": {
  "kernelspec": {
   "display_name": "Python 3 (ipykernel)",
   "language": "python",
   "name": "python3"
  },
  "language_info": {
   "codemirror_mode": {
    "name": "ipython",
    "version": 3
   },
   "file_extension": ".py",
   "mimetype": "text/x-python",
   "name": "python",
   "nbconvert_exporter": "python",
   "pygments_lexer": "ipython3",
   "version": "3.9.7"
  }
 },
 "nbformat": 4,
 "nbformat_minor": 5
}
