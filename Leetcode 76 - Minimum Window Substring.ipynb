{
 "cells": [
  {
   "cell_type": "markdown",
   "id": "96f9c9a5",
   "metadata": {},
   "source": [
    "# Analysis of Sliding Window method with 76. Minimum Window Substring (hard)"
   ]
  },
  {
   "cell_type": "markdown",
   "id": "16cd4d9b",
   "metadata": {},
   "source": [
    "Question Link: https://leetcode.com/problems/minimum-window-substring/"
   ]
  },
  {
   "cell_type": "code",
   "execution_count": null,
   "id": "f1e7426f",
   "metadata": {},
   "outputs": [],
   "source": []
  },
  {
   "cell_type": "markdown",
   "id": "20d51f75",
   "metadata": {},
   "source": [
    "## Step 1: Analysis of Bruteforce Solution"
   ]
  },
  {
   "cell_type": "markdown",
   "id": "5c7c7c76",
   "metadata": {},
   "source": [
    "The question requires us to find out the shortest substring in a given string \"s\" that contains all characters of another given string \"t\".\n",
    "\n",
    "Initially the question does not seem it is a \"hard\" question, but the question is quite tricky in terms of reducing its time complexity, and even calculating the time complexity itself is a tricky thing to do.\n",
    "\n",
    "First let's look at the bruteforce solution"
   ]
  },
  {
   "cell_type": "markdown",
   "id": "c00d7831",
   "metadata": {},
   "source": [
    "The bruteforce solution is quite straightforward. If we can come up and visit every single substring, and when visiting each substring, determine whether the substring contains the characters in string \"t.\" Through doing that, keep a record for the shortest substring that satisfies the condition and finally we will have the shortest substring that contains all of t's characters.\n",
    "\n",
    "The algorithm is like this:\n",
    "```\n",
    "for i in range(len(s)):\n",
    "    for j in range(j+1, len(s)):\n",
    "        determine whether s[i:j] contains all characters in \"t\"\n",
    "```        \n",
    "For the part to determin whether the substring contains all characters in t, we cannot simply use a nested loop to go through the substring. Instead we will need to take care of the situation where t has multiple occurrences of the same character. For a bruteforce way of determining whether all characters in t are in substring ss, we can use the following algorithm.\n",
    "```\n",
    "for c in t:\n",
    "    if ss.count(c) < t.count(c):\n",
    "        ss does not contain all t's characters\n",
    "ss contains all t's characters\n",
    "```\n",
    "Of course, the above is the most plain and easiest to understand. It is easy to make some optimization to the code so that the efficiency can be improved. But for now, let's accept this easy-to-understand bruteforce solution.\n",
    "\n",
    "The code is as following."
   ]
  },
  {
   "cell_type": "code",
   "execution_count": 1,
   "id": "a05ac72f",
   "metadata": {},
   "outputs": [],
   "source": [
    "# Burteforce solution.\n",
    "class Solution:\n",
    "    def minWindow(self, s: str, t: str) -> str:\n",
    "        result = None\n",
    "        for i in range(len(s)):\n",
    "            for j in range(i+1, len(s)+1):\n",
    "                if self.t_in_ss(s[i:j], t):\n",
    "                    result = s[i:j] if result is None or len(result) > len(s[i:j]) else result\n",
    "        return result if result else \"\"\n",
    "\n",
    "    def t_in_ss(self, ss, tg):\n",
    "        for c in tg:\n",
    "            if tg.count(c) > ss.count(c):\n",
    "                return False\n",
    "        return True"
   ]
  },
  {
   "cell_type": "code",
   "execution_count": 4,
   "id": "c70079e8",
   "metadata": {},
   "outputs": [
    {
     "name": "stdout",
     "output_type": "stream",
     "text": [
      "BANC\n",
      "a\n",
      "\n"
     ]
    }
   ],
   "source": [
    "# A few test cases\n",
    "cases = [[\"ADOBECODEBANC\", \"ABC\"],\n",
    "         [\"a\", \"a\"], [\"a\", 'aa']]\n",
    "\n",
    "for str_s, str_t in cases:\n",
    "    print(Solution().minWindow(str_s, str_t))"
   ]
  },
  {
   "cell_type": "markdown",
   "id": "c87c11f8",
   "metadata": {},
   "source": [
    "Because of the high time complexity of the solution, the code won't pass the test on Leetcode. A further optimization to reduce the time complexity would be needed. But first let's understand the bruteforce solution's time complexity in terms of its big O representation.\n",
    "\n",
    "First Let's introduce the addition and multiplication laws of Big O, which are simply:\n",
    "- O(f(n)) + O(g(n)) = O(f(n)+g(n))\n",
    "- O(f(n)) \\* O(g(n)) = O(f(n)\\*g(n))\n",
    "\n",
    "Now to understand the time complexity of the bruteforce solution, we check see that in the outer for loops we have O(n) * O(n) = O(n\\*n).\n",
    "\n",
    "But it's a bit tricky to find out the helper function's time complexity because the count method in the str type is unknown. After searching for it, the closest answer I can find is here. \n",
    "    https://stackoverflow.com/questions/35855748/whats-the-computational-cost-of-count-operation-on-strings-python\n",
    "    \n",
    "It states the time complexity for searching for one character in another string is O(n). Let's take this as true, and we can see that two count methods are invoked in the helper function and one outer loop is used. Let's say len(t) is m, and len(s) is n. \n",
    "\n",
    "For the outer loop and the t.count(c) call, the time complexity is O(m). The ss.count(c) call is generally O(n).\n",
    "\n",
    "Combined with the two next for loops in the minWindow function, the time complexity of the solution should be:\n",
    "> O(n\\*n\\*m\\*(m+n))\n",
    "\n",
    "A pretty high time complexity.\n"
   ]
  },
  {
   "cell_type": "code",
   "execution_count": null,
   "id": "34400b94",
   "metadata": {},
   "outputs": [],
   "source": []
  },
  {
   "cell_type": "markdown",
   "id": "9271a633",
   "metadata": {},
   "source": [
    "## Step 2: Sliding Window Method"
   ]
  },
  {
   "cell_type": "markdown",
   "id": "18fd4db8",
   "metadata": {},
   "source": [
    "To try to reduce the steps we have to take to find out the shortest substring that satisfies the condition, we have to look deeper into the bruteforce solution and find out what are the unneccessary steps that we can skip.\n",
    "\n",
    "To visit all possibel substrings in the bruteforce method, the solution used a nest for loop, in which it \"pins\" the left position and expand the right position in the inner for loop to go over all possibilities. Once an inner for loop finishes, meaning that the right position reaches the last position of the string s, the left position is moved 1 position forward, and the right position is reset to the next position of the new left position.\n",
    "\n",
    "The first thing we can do is that instead of letting the right position go all the way to the end of string s, we can stop the expansion once, for a \"pinned\" left position, a shortest substring containing all characters in string t is found. The reason for stopping the right position from moving is obvious, once the shortest solution for a fixed left position is found, we can end the inner for loop, because all substrings in the following exploration in the same inner for loop will be a longer solution than the one found, hence won't be accepted.\n",
    "\n",
    "This is just a minor change to the bruteforce solution and will not reduce the time complexity.\n"
   ]
  },
  {
   "cell_type": "code",
   "execution_count": 6,
   "id": "e2ac128b",
   "metadata": {},
   "outputs": [],
   "source": [
    "class Solution:\n",
    "    def minWindow(self, s: str, t: str) -> str:\n",
    "        result = None\n",
    "        for i in range(len(s)):\n",
    "            for j in range(i+1, len(s)+1):\n",
    "                if self.t_in_ss(s[i:j], t):\n",
    "                    result = s[i:j] if result is None or len(result) > len(s[i:j]) else result\n",
    "                    break\n",
    "        return result if result else \"\"\n",
    "\n",
    "    def t_in_ss(self, ss, tg):\n",
    "        for c in tg:\n",
    "            if tg.count(c) > ss.count(c):\n",
    "                return False\n",
    "        return True"
   ]
  },
  {
   "cell_type": "code",
   "execution_count": 7,
   "id": "5d7e6be9",
   "metadata": {},
   "outputs": [
    {
     "name": "stdout",
     "output_type": "stream",
     "text": [
      "BANC\n",
      "a\n",
      "\n"
     ]
    }
   ],
   "source": [
    "# A few test cases\n",
    "cases = [[\"ADOBECODEBANC\", \"ABC\"],\n",
    "         [\"a\", \"a\"], [\"a\", 'aa']]\n",
    "\n",
    "for str_s, str_t in cases:\n",
    "    print(Solution().minWindow(str_s, str_t))"
   ]
  },
  {
   "cell_type": "markdown",
   "id": "d8729b76",
   "metadata": {},
   "source": [
    "In the above optimized solution, we perform the reset earlier than after completing the whole process of exploring all the substrings.\n",
    "\n",
    "However, this method still resets both left and right positions after each inner for loop so that we can start with the next left prosition. Let's consider a method that we don't need to reset both positions but only the left.\n",
    "\n",
    "That means when we start the next loop, we don't move the right position but move the left position one step forward. And if this substring between the left and right positions still contains all characters of string t, It means we have a one-character shorter answer than the one we found previously. And we can then continue this process, that is, keep moving the left position one step forward and determine whether the substring between left and right positions satisfies our condition. Eventually we will find out the shortest substring with that fixed right position.\n",
    "\n",
    "But this shortest substring is only the shortest with that right position but not necessarily the shortest substring that we want. For that, we would need to further explore other possibilitie. \n",
    "\n",
    "Starting from where we left off, if we have already found the shortest substring with that fixed right position, what are the next steps for other possibilities? Just imagine how the exploration process will stop. We have reached the last left position so that the corresponding substring is the shortest with the particular right position, but at this time, we don't know we have found it; we still move the left position one step forward and then at this step, the substring we get to no longer contains all characters from string t. Then in the next step, we should not forward the left position again because if this substring does not satisfy our need, the next substring will not either. Here we should move the right position again if it has not reached the last character of the string s.\n",
    "\n",
    "How should we move the right position? Basically we have two options that make sense.\n",
    "1. set the right position next to the current left position.\n",
    "2. move the right position forward.\n",
    "\n",
    "For the first option, it is not a good choice, because if we set the right position next to the left position and move forward again, we would have to explore some substrings we know will not contain all characters of string t, that is, substrings with the current left position and a right position between the one next to the current left position and the right position before the reset. Hence the only logical move is 2, move the right position forward.\n",
    "\n",
    "And then we can explore more substrings by moving the right position foreward until we have found another substring that contains all characters of string t. After that we can start moving the left postion forward again until we find that the substring does not satisfy the condition anymore. And then move the right position forward ...\n",
    "\n",
    "This moving the right position forward and then the left positon algorithm is called the sliding window method. It's named after the moving right and left sides of a \"window.\" It is quite similar to a window sliding through a string.\n",
    "\n",
    "Let's look at the solution code using the sliding window method.\n"
   ]
  },
  {
   "cell_type": "code",
   "execution_count": 8,
   "id": "47d0cb78",
   "metadata": {},
   "outputs": [],
   "source": [
    "# Sliding window method.\n",
    "class Solution:\n",
    "    def minWindow(self, s: str, t: str) -> str:\n",
    "        result = None\n",
    "        left = right = 0\n",
    "        while right <= len(s):\n",
    "            if len(s[left:right])<len(t) or not self.t_in_ss(s[left:right], t):\n",
    "                right += 1\n",
    "            else:\n",
    "                result = s[left:right] if result is None or len(result) > len(s[left:right]) else result\n",
    "                left += 1\n",
    "        return result if result else \"\"\n",
    "\n",
    "    def t_in_ss(self, ss, tg):\n",
    "        for c in tg:\n",
    "            if tg.count(c) > ss.count(c):\n",
    "                return False\n",
    "        return True"
   ]
  },
  {
   "cell_type": "code",
   "execution_count": 9,
   "id": "428fa38d",
   "metadata": {},
   "outputs": [
    {
     "name": "stdout",
     "output_type": "stream",
     "text": [
      "BANC\n",
      "a\n",
      "\n"
     ]
    }
   ],
   "source": [
    "# A few test cases\n",
    "cases = [[\"ADOBECODEBANC\", \"ABC\"],\n",
    "         [\"a\", \"a\"], [\"a\", 'aa']]\n",
    "\n",
    "for str_s, str_t in cases:\n",
    "    print(Solution().minWindow(str_s, str_t))"
   ]
  },
  {
   "cell_type": "markdown",
   "id": "600d42dd",
   "metadata": {},
   "source": [
    "Very unfortunately, this sliding window method still won't pass the test on Leecode. As for the sliding window application, the original nested for loop is gone and replaced with a while loop, hence time complexity has been reduced from O(n\\*n) to O(n). However the helper function t_in_ss's time complexity is still the same. The time complexity for the whole solution is O(n\\*m\\*(m+n)), which is still pretty high.\n",
    "\n",
    "Clearly the next step is to rewrite the t_in_ss helper function.\n"
   ]
  },
  {
   "cell_type": "markdown",
   "id": "7c84cb8e",
   "metadata": {},
   "source": [
    "## Step 3: Space for Time"
   ]
  },
  {
   "cell_type": "markdown",
   "id": "9cb0119b",
   "metadata": {},
   "source": [
    "One very classic way for improving the time complexity of an algorithm is to trade space with time. Usually it means using a \"record\" to keep track of the history so that the operations (usually comparisons) don't have to be done again. In this question, we can also apply the same technique to improve the t_in_ss helper function's time complexity.\n",
    "\n",
    "In the current helper function, we try to search every character in string t in substring ss. This operations happens over and over again, even when only the left or the right position is put to the next position. There is a lot of wasted resource in this process.\n",
    "\n",
    "To reduce the waste, we can simply maintain the status of the current window and that of the target, then we can compare the two to find out whether the substring in our window contains all characters of string t. When the window is sliding, we can change the status of the current window according to what is removed and what is added to it.\n",
    "\n"
   ]
  },
  {
   "cell_type": "markdown",
   "id": "b10d33d7",
   "metadata": {},
   "source": [
    "To do the above, we will need to maintain two counters: one is for the characters in t, and the other is for the characters inside the window. When the right position moves to the next position, we include the new character in the window counter; and then the left postion moves to the next position, we exclude the old character in the window counter.\n",
    "\n",
    "And to compare whether a window contains the same or more counts of the characters in string t, we use another variable is_valid to keep track of how many characters in t have enough count inside the window. To do so, every time a new character is included in the window, we will compare the count of the character in window with that in t: if they are the same, we increase is_valid by one, meaning this character has enough presence in the window. And as long as the is_valid has the same value as the number of DISTINCT characters in t, we know that the window contains a solution. And when a character is excluded from the window, we can kind of revert the above process.\n",
    "\n",
    "Let's look at the code."
   ]
  },
  {
   "cell_type": "code",
   "execution_count": 10,
   "id": "aa3e3446",
   "metadata": {},
   "outputs": [],
   "source": [
    "class Solution:\n",
    "    def minWindow(self, s: str, t: str) -> str:\n",
    "        wd, tg, is_valid = {}, {}, 0\n",
    "        l = r = is_valid = 0\n",
    "        result = None\n",
    "        \n",
    "        for c in t:\n",
    "            tg[c] = tg.get(c, 0) + 1\n",
    "\n",
    "        while r<len(s) or is_valid==len(tg): \n",
    "            if is_valid<len(tg) and r<len(s): # expanding the window\n",
    "                if s[r] in tg: # only record the count of characters in string t\n",
    "                    wd[s[r]] = wd.get(s[r], 0) + 1 # increase count of character\n",
    "                    if wd[s[r]] == tg[s[r]]: is_valid += 1 # when count in window equals to the count in t,\n",
    "                                                           # one more character satisfies the condition\n",
    "                r += 1 # move the right border of the window\n",
    "            elif is_valid == len(tg): # dwindling the window\n",
    "                result = s[l:r] if not result or len(result) > len(s[l:r]) else result # update the shortest substring\n",
    "                if s[l] in tg:\n",
    "                    wd[s[l]] -= 1 # decrease count of character\n",
    "                    if wd[s[l]] < tg[s[l]]: is_valid -= 1 # when count in window is less than the count in t,\n",
    "                                                          # one less character satisfies the conditon\n",
    "                l += 1 # move the left border of the window\n",
    "        return result if result else \"\"\n"
   ]
  },
  {
   "cell_type": "markdown",
   "id": "da2c28ea",
   "metadata": {},
   "source": [
    "There are a lot of details in the above solution that we would need to take care. Please check out the code comments.\n",
    "\n",
    "The while loop condition is a bit tricky and the conditions here are not the only correct conditions. Some other solutions even put a True here and break the while loop inside it.\n",
    "\n",
    "We already established what is done inside the while loop:\n",
    "1. expanding the window when the window does not contain a solution.\n",
    "2. shrinking the window when the window still contains the solution.\n",
    "\n",
    "For expansion of the window, we can still expand the window if the right border of the window is not at the end of the string s. For the shrinking of the window, the left border of the window cannot go past the right border.\n",
    "\n",
    "The tricky bit of the process is that even when the right border of the window reaches the end of the string s, we may still need to shrink the window to find the shortest substring. That is why the while loop condition is set as a union of 1) either right is not at the end of string s, 2) the window still contains a solution even when the right border reaches the end. "
   ]
  },
  {
   "cell_type": "code",
   "execution_count": 11,
   "id": "4f9cf262",
   "metadata": {},
   "outputs": [
    {
     "name": "stdout",
     "output_type": "stream",
     "text": [
      "BANC\n",
      "a\n",
      "\n"
     ]
    }
   ],
   "source": [
    "# A few test cases\n",
    "cases = [[\"ADOBECODEBANC\", \"ABC\"],\n",
    "         [\"a\", \"a\"], [\"a\", 'aa']]\n",
    "\n",
    "for str_s, str_t in cases:\n",
    "    print(Solution().minWindow(str_s, str_t))"
   ]
  },
  {
   "cell_type": "markdown",
   "id": "909bedbf",
   "metadata": {},
   "source": [
    "One last thing let's look at the time complexity of this solution.\n",
    "\n",
    "The last solution creates the counter with O(m) time, where m is the length of string t. And in the while loop, the time complexity is O(2\\*n) = O(n). Hence, the solution's time complexity is O(m) + O(n) = O(m+n)."
   ]
  },
  {
   "cell_type": "code",
   "execution_count": null,
   "id": "e2f9b4a1",
   "metadata": {},
   "outputs": [],
   "source": []
  },
  {
   "cell_type": "markdown",
   "id": "d09a6b3d",
   "metadata": {},
   "source": [
    "## Similar Questions"
   ]
  },
  {
   "cell_type": "markdown",
   "id": "eca2d03d",
   "metadata": {},
   "source": [
    "3. Longest Substring Without Repeating Character: https://leetcode.com/problems/longest-substring-without-repeating-characters/\n"
   ]
  },
  {
   "cell_type": "code",
   "execution_count": null,
   "id": "1de75761",
   "metadata": {},
   "outputs": [],
   "source": []
  }
 ],
 "metadata": {
  "kernelspec": {
   "display_name": "Python 3 (ipykernel)",
   "language": "python",
   "name": "python3"
  },
  "language_info": {
   "codemirror_mode": {
    "name": "ipython",
    "version": 3
   },
   "file_extension": ".py",
   "mimetype": "text/x-python",
   "name": "python",
   "nbconvert_exporter": "python",
   "pygments_lexer": "ipython3",
   "version": "3.9.7"
  }
 },
 "nbformat": 4,
 "nbformat_minor": 5
}
